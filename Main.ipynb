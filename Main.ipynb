{
 "cells": [
  {
   "cell_type": "markdown",
   "metadata": {},
   "source": [
    "# Question Answer System"
   ]
  },
  {
   "cell_type": "code",
   "execution_count": 1,
   "metadata": {},
   "outputs": [
    {
     "name": "stderr",
     "output_type": "stream",
     "text": [
      "C:\\Users\\SHIV\\Anaconda3\\lib\\site-packages\\gensim\\utils.py:1197: UserWarning: detected Windows; aliasing chunkize to chunkize_serial\n",
      "  warnings.warn(\"detected Windows; aliasing chunkize to chunkize_serial\")\n"
     ]
    }
   ],
   "source": [
    "#All the imports\n",
    "\n",
    "import re\n",
    "import nltk\n",
    "import requests\n",
    "import pandas as pd\n",
    "\n",
    "from nltk.tokenize import sent_tokenize, word_tokenize\n",
    "from nltk.corpus import stopwords\n",
    "from gensim.models import Word2Vec\n",
    "from gensim.models import KeyedVectors\n",
    "from bs4 import BeautifulSoup\n"
   ]
  },
  {
   "cell_type": "markdown",
   "metadata": {},
   "source": [
    "### All the required functions "
   ]
  },
  {
   "cell_type": "code",
   "execution_count": 2,
   "metadata": {},
   "outputs": [],
   "source": [
    "#Get the content from the wiki url and store it into single data variable.\n",
    " \n",
    "def getDataFromURL(url):\n",
    "    print(\"Fetching Data from url\")\n",
    "    res = requests.get(url)\n",
    "    soup = BeautifulSoup(res.text, 'html.parser')\n",
    "    data = \"\"\n",
    "    for item in soup.find_all(\"p\"):\n",
    "        #Removes all the refrences e.g \"[12]\" type of string from the text.\n",
    "        withoutRef = re.sub(r'\\[\\d+\\]', '', item.text)\n",
    "        data= data+\"\\n\"+withoutRef \n",
    "    return data"
   ]
  },
  {
   "cell_type": "code",
   "execution_count": 3,
   "metadata": {},
   "outputs": [],
   "source": [
    "# pre processing data\n",
    "def cleanData(sentence):\n",
    "    # convert words to lowercase, ignore all special characters data only contains alpha-numericals and spaces\n",
    "    sentence = re.sub(r'[^A-Za-z0-9\\s]', r'', str(sentence).lower())\n",
    "\n",
    "    # remove stop words\n",
    "    sentence = \" \".join([word for word in sentence.split()\n",
    "                        if word not in stopwords.words('english')])\n",
    "\n",
    "    return sentence"
   ]
  },
  {
   "cell_type": "code",
   "execution_count": 4,
   "metadata": {},
   "outputs": [],
   "source": [
    "#Build Model for given text\n",
    "def buildModel(sentences):\n",
    "    print(\"Building the model\")\n",
    "    data = [cleanData(x).split(\" \") for x in sentences]\n",
    "    # train model\n",
    "    model = Word2Vec(data, min_count=1)\n",
    "    # summarize vocabulary\n",
    "    words = list(model.wv.vocab)\n",
    "    # save model\n",
    "    model.save('model.bin')\n",
    "    # load model\n",
    "    new_model = Word2Vec.load('model.bin')\n",
    "    return new_model"
   ]
  },
  {
   "cell_type": "code",
   "execution_count": 5,
   "metadata": {},
   "outputs": [],
   "source": [
    "#Compute similarity between two sentences\n",
    "def compute_sentence_similarity(sentence_1, sentence_2, model_wv): \n",
    "    tokens_1 = word_tokenize(sentence_1)   \n",
    "    tokens_2 = word_tokenize(sentence_2)\n",
    "    return model_wv.n_similarity(tokens_1, tokens_2)"
   ]
  },
  {
   "cell_type": "code",
   "execution_count": 9,
   "metadata": {},
   "outputs": [],
   "source": [
    "#Predict sentence have max probabity to be the answer to the query.\n",
    "def predictAnswer(url,query):\n",
    "    \n",
    "    # fetch text and split in sentences.\n",
    "    data = getDataFromURL(url)\n",
    "    sentences = sent_tokenize(data)\n",
    "    \n",
    "    #build new model\n",
    "    new_model = buildModel(sentences)\n",
    "    \n",
    "    \n",
    "    print(\"Predicting.......\")\n",
    "    max_similarity=0\n",
    "    answer=\"\"\n",
    "\n",
    "    #Loop all the sentences to get the best match\n",
    "    for sentence in sentences:\n",
    "        similarity = compute_sentence_similarity(cleanData(sentence), cleanData(query), new_model)\n",
    "        if(max_similarity<similarity):\n",
    "            max_similarity = similarity\n",
    "            answer = sentence\n",
    "    print(\"Prediction completed\")\n",
    "    return answer,max_similarity\n",
    "    "
   ]
  },
  {
   "cell_type": "markdown",
   "metadata": {},
   "source": [
    "### Main Code "
   ]
  },
  {
   "cell_type": "code",
   "execution_count": 7,
   "metadata": {},
   "outputs": [],
   "source": [
    "#Intialize url and query\n",
    "#One a change them accordingly\n",
    "url = \"https://en.wikipedia.org/wiki/R2-D2\"\n",
    "query=\"When was R2-D2 inducted into the Robot Hall of Fame\""
   ]
  },
  {
   "cell_type": "code",
   "execution_count": 10,
   "metadata": {},
   "outputs": [
    {
     "name": "stdout",
     "output_type": "stream",
     "text": [
      "Fetching Data from url\n",
      "Building the model\n"
     ]
    },
    {
     "name": "stderr",
     "output_type": "stream",
     "text": [
      "C:\\Users\\SHIV\\Anaconda3\\lib\\site-packages\\smart_open\\smart_open_lib.py:398: UserWarning: This function is deprecated, use smart_open.open instead. See the migration notes for details: https://github.com/RaRe-Technologies/smart_open/blob/master/README.rst#migrating-to-the-new-open-function\n",
      "  'See the migration notes for details: %s' % _MIGRATION_NOTES_URL\n",
      "C:\\Users\\SHIV\\Anaconda3\\lib\\site-packages\\ipykernel_launcher.py:5: DeprecationWarning: Call to deprecated `n_similarity` (Method will be removed in 4.0.0, use self.wv.n_similarity() instead).\n",
      "  \"\"\"\n"
     ]
    },
    {
     "name": "stdout",
     "output_type": "stream",
     "text": [
      "Predicting.......\n",
      "Prediction completed\n"
     ]
    }
   ],
   "source": [
    "answer,sim = predictAnswer(url,query)"
   ]
  },
  {
   "cell_type": "code",
   "execution_count": 12,
   "metadata": {},
   "outputs": [
    {
     "name": "stdout",
     "output_type": "stream",
     "text": [
      "R2-D2 was inducted into the Robot Hall of Fame in 2003.   0.929\n"
     ]
    }
   ],
   "source": [
    "print(answer,\" \", round(sim,3))"
   ]
  },
  {
   "cell_type": "code",
   "execution_count": null,
   "metadata": {},
   "outputs": [],
   "source": []
  }
 ],
 "metadata": {
  "kernelspec": {
   "display_name": "Python 3",
   "language": "python",
   "name": "python3"
  },
  "language_info": {
   "codemirror_mode": {
    "name": "ipython",
    "version": 3
   },
   "file_extension": ".py",
   "mimetype": "text/x-python",
   "name": "python",
   "nbconvert_exporter": "python",
   "pygments_lexer": "ipython3",
   "version": "3.7.0"
  }
 },
 "nbformat": 4,
 "nbformat_minor": 2
}
